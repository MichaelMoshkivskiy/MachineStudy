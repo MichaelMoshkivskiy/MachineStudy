{
  "nbformat": 4,
  "nbformat_minor": 0,
  "metadata": {
    "colab": {
      "provenance": []
    },
    "kernelspec": {
      "name": "python3",
      "display_name": "Python 3"
    },
    "language_info": {
      "name": "python"
    }
  },
  "cells": [
    {
      "cell_type": "code",
      "execution_count": 1,
      "metadata": {
        "id": "cj9BVGeQTwKW"
      },
      "outputs": [],
      "source": [
        "import requests\n",
        "from bs4 import BeautifulSoup\n"
      ]
    },
    {
      "cell_type": "code",
      "source": [
        "url = \"https://uk.wikipedia.org/wiki/%D0%A1%D0%B5%D1%80%D0%B5%D0%B4%D0%BD%D1%8F_%D0%B7%D0%B0%D1%80%D0%BE%D0%B1%D1%96%D1%82%D0%BD%D0%B0_%D0%BF%D0%BB%D0%B0%D1%82%D0%B0_%D0%B2_%D0%A3%D0%BA%D1%80%D0%B0%D1%97%D0%BD%D1%96\"\n",
        "response = requests.get(url)\n",
        "html = response.text\n"
      ],
      "metadata": {
        "id": "Mb3MweJiYnTy"
      },
      "execution_count": 3,
      "outputs": []
    },
    {
      "cell_type": "code",
      "source": [
        "soup = BeautifulSoup(html, 'html.parser')\n"
      ],
      "metadata": {
        "id": "-2IpiaW8Y6j4"
      },
      "execution_count": 4,
      "outputs": []
    },
    {
      "cell_type": "code",
      "source": [
        "tables = soup.find_all('table')\n",
        "print(len(tables))\n"
      ],
      "metadata": {
        "colab": {
          "base_uri": "https://localhost:8080/"
        },
        "id": "o-iyYK1yY8Uw",
        "outputId": "0dd21301-e8e3-4672-8522-e17c8327a7f3"
      },
      "execution_count": 9,
      "outputs": [
        {
          "output_type": "stream",
          "name": "stdout",
          "text": [
            "3\n"
          ]
        }
      ]
    },
    {
      "cell_type": "code",
      "source": [
        "for i in range(3):\n",
        "    table = tables[i]\n",
        "    caption = table.find('caption')\n",
        "    print(f\"Table {i + 1}: {caption.text if caption else 'No caption'}\")\n"
      ],
      "metadata": {
        "colab": {
          "base_uri": "https://localhost:8080/"
        },
        "id": "d3RdmqdvY_Tb",
        "outputId": "814bebed-ac7b-4749-998c-df756bd6313e"
      },
      "execution_count": 6,
      "outputs": [
        {
          "output_type": "stream",
          "name": "stdout",
          "text": [
            "Table 1: No caption\n",
            "Table 2: No caption\n",
            "Table 3: No caption\n"
          ]
        }
      ]
    },
    {
      "cell_type": "code",
      "source": [
        "third_table = tables[2]"
      ],
      "metadata": {
        "id": "xxiVwUlmZDBE"
      },
      "execution_count": 10,
      "outputs": []
    },
    {
      "cell_type": "markdown",
      "source": [
        "Виведіть перші 5 рядків таблиці."
      ],
      "metadata": {
        "id": "lHJ66LmmZZlH"
      }
    },
    {
      "cell_type": "code",
      "source": [
        "\n",
        "rows = third_table.find_all('tr')\n",
        "\n",
        "\n",
        "for row in rows[:5]:\n",
        "    cells = row.find_all('td')\n",
        "    for cell in cells:\n",
        "        print(cell.get_text(), end='\\t')\n",
        "    print()\n"
      ],
      "metadata": {
        "colab": {
          "base_uri": "https://localhost:8080/"
        },
        "id": "cYdcZOtJZMy2",
        "outputId": "b51a0f0a-0467-451d-8ac7-da26ba58a593"
      },
      "execution_count": 11,
      "outputs": [
        {
          "output_type": "stream",
          "name": "stdout",
          "text": [
            "\n",
            "1992\n",
            "\t5832,88▲\n",
            "\t28,04▼\n",
            "\t1015,67▲\n",
            "\t—\n",
            "\t\n",
            "1993\n",
            "\t163533▲\n",
            "\t36,03▲\n",
            "\t430,42▼\n",
            "\t—\n",
            "\t\n",
            "1994\n",
            "\t1426343▲\n",
            "\t44,99▲\n",
            "\t372,76▼\n",
            "\t—\n",
            "\t\n",
            "1995\n",
            "\t7304000▲\n",
            "\t49,53▲\n",
            "\t201,76▼\n",
            "\t—\n",
            "\t\n"
          ]
        }
      ]
    },
    {
      "cell_type": "markdown",
      "source": [
        "Визначте кількість рядків і стовпчиків за допомогою атрибуту shape"
      ],
      "metadata": {
        "id": "lhQ50rHgZd3T"
      }
    },
    {
      "cell_type": "code",
      "source": [
        "import pandas as pd"
      ],
      "metadata": {
        "id": "TcJeHSG7ZlsT"
      },
      "execution_count": 12,
      "outputs": []
    },
    {
      "cell_type": "code",
      "source": [
        "html_table = str(third_table)"
      ],
      "metadata": {
        "id": "ZN4LnF6XZnTl"
      },
      "execution_count": 13,
      "outputs": []
    },
    {
      "cell_type": "code",
      "source": [
        "df = pd.read_html(html_table)[0]"
      ],
      "metadata": {
        "id": "eYDxX0dvZrih"
      },
      "execution_count": 14,
      "outputs": []
    },
    {
      "cell_type": "code",
      "source": [
        "rows, columns = df.shape\n",
        "print(f\"Кількість рядків: {rows}\")\n",
        "print(f\"Кількість стовпчиків: {columns}\")"
      ],
      "metadata": {
        "colab": {
          "base_uri": "https://localhost:8080/"
        },
        "id": "O7ZOkHbEZvgT",
        "outputId": "ff46d727-c375-46ef-d784-b8de06ff317c"
      },
      "execution_count": 15,
      "outputs": [
        {
          "output_type": "stream",
          "name": "stdout",
          "text": [
            "Кількість рядків: 32\n",
            "Кількість стовпчиків: 5\n"
          ]
        }
      ]
    },
    {
      "cell_type": "markdown",
      "source": [
        "Замінити пропущені значення  «-» в таблиці на NaN"
      ],
      "metadata": {
        "id": "oUNmqisDbT0J"
      }
    },
    {
      "cell_type": "code",
      "source": [
        "df.replace('-', pd.NA, inplace=True)\n",
        "print(df)"
      ],
      "metadata": {
        "colab": {
          "base_uri": "https://localhost:8080/"
        },
        "id": "l2DeYkv0bZtT",
        "outputId": "6c71c741-7fd1-41b4-b082-ef1daff2750a"
      },
      "execution_count": 17,
      "outputs": [
        {
          "output_type": "stream",
          "name": "stdout",
          "text": [
            "      Рік В національній валюті В доларах США  \\\n",
            "0    1992              5832,88▲        28,04▼   \n",
            "1    1993               163533▲        36,03▲   \n",
            "2    1994              1426343▲        44,99▲   \n",
            "3    1995              7304000▲        49,53▲   \n",
            "4    1996               125,23▼        68,45▲   \n",
            "5    1997               143,09▲        76,86▲   \n",
            "6    1998               152,83▲        62,39▼   \n",
            "7    1999               177,39▲        42,95▼   \n",
            "8    2000               231,04▲        42,47▼   \n",
            "9    2001               311,62▲        58,01▲   \n",
            "10   2002               375,98▲        70,59▲   \n",
            "11   2003               462,58▲        86,74▲   \n",
            "12   2004               590,53▲       111,02▲   \n",
            "13   2005               806,14▲       157,30▲   \n",
            "14   2006              1042,88▲       206,51▲   \n",
            "15   2007              1352,75▲       267,87▲   \n",
            "16   2008              1808,92▲       343,43▲   \n",
            "17   2009              1909,25▲       245,05▼   \n",
            "18   2010              2246,75▲       283,12▲   \n",
            "19   2011              2639,17▲       331,24▲   \n",
            "20   2012              3031,92▲       379,42▲   \n",
            "21   2013              3273,82▲       409,59▲   \n",
            "22   2014              3474,75▲       292,32▼   \n",
            "23   2015              4207,33▲       162,60▼   \n",
            "24   2016              5187,33▲       203,02▲   \n",
            "25   2017              7105,42▲       267,16▲   \n",
            "26   2018              8867,33▲       325,99▲   \n",
            "27   2019             10503,75▲       406,40▲   \n",
            "28   2020             11596,60▲       430,21▲   \n",
            "29   2021             14017,80▲       514,41▲   \n",
            "30  2022*             13376,21▼       380,00▼   \n",
            "31  2023*             13768,40▲       358,72▼   \n",
            "\n",
            "   Кількість кг хліба[20] на середню зарплату  \\\n",
            "0                                    1015,67▲   \n",
            "1                                     430,42▼   \n",
            "2                                     372,76▼   \n",
            "3                                     201,76▼   \n",
            "4                                     198,62▼   \n",
            "5                                     211,13▲   \n",
            "6                                     177,69▼   \n",
            "7                                     180,68▲   \n",
            "8                                     117,51▼   \n",
            "9                                     153,57▲   \n",
            "10                                    213,84▲   \n",
            "11                                    276,27▲   \n",
            "12                                    276,06▼   \n",
            "13                                    332,05▲   \n",
            "14                                    441,28▲   \n",
            "15                                    498,66▲   \n",
            "16                                    585,00▲   \n",
            "17                                    497,02▼   \n",
            "18                                    527,82▲   \n",
            "19                                    564,37▲   \n",
            "20                                    585,38▲   \n",
            "21                                    625,00▲   \n",
            "22                                    642,39▲   \n",
            "23                                    517,22▼   \n",
            "24                                    441,05▼   \n",
            "25                                    450,35▲   \n",
            "26                                    497,05▲   \n",
            "27                                    528,09▲   \n",
            "28                                    549,08▲   \n",
            "29                                    560,03▲   \n",
            "30                                    409,57▼   \n",
            "31                                    387,62▼   \n",
            "\n",
            "   Кількість БігМаків на середню зарплату  \n",
            "0                                       —  \n",
            "1                                       —  \n",
            "2                                       —  \n",
            "3                                       —  \n",
            "4                                       —  \n",
            "5                                  20[21]  \n",
            "6                                    н.д.  \n",
            "7                                 24▲[22]  \n",
            "8                                    н.д.  \n",
            "9                                 50▲[23]  \n",
            "10                                   н.д.  \n",
            "11                                   н.д.  \n",
            "12                                    81▲  \n",
            "13                                   111▲  \n",
            "14                                   123▲  \n",
            "15                                   146▲  \n",
            "16                                   164▲  \n",
            "17                                   136▼  \n",
            "18                                   155▲  \n",
            "19                                   160▲  \n",
            "20                                   202▲  \n",
            "21                                   172▼  \n",
            "22                                   182▲  \n",
            "23                                   124▼  \n",
            "24                                   133▲  \n",
            "25                                   161▲  \n",
            "26                                   177▲  \n",
            "27                                   184▲  \n",
            "28                                   187▲  \n",
            "29                                   216▲  \n",
            "30                                   132▼  \n",
            "31                                   131▼  \n"
          ]
        }
      ]
    },
    {
      "cell_type": "markdown",
      "source": [
        "Визначити тип стовпців за допомогою dtypes."
      ],
      "metadata": {
        "id": "rbek62DWbeQe"
      }
    },
    {
      "cell_type": "code",
      "source": [
        "column_types = df.dtypes\n",
        "print(column_types)"
      ],
      "metadata": {
        "colab": {
          "base_uri": "https://localhost:8080/"
        },
        "id": "myXFPJgjbn47",
        "outputId": "470f3de8-3c86-400a-b84a-0a07f26b5c05"
      },
      "execution_count": 18,
      "outputs": [
        {
          "output_type": "stream",
          "name": "stdout",
          "text": [
            "Рік                                           object\n",
            "В національній валюті                         object\n",
            "В доларах США                                 object\n",
            "Кількість кг хліба[20] на середню зарплату    object\n",
            "Кількість БігМаків на середню зарплату        object\n",
            "dtype: object\n"
          ]
        }
      ]
    },
    {
      "cell_type": "markdown",
      "source": [
        "Замінити тип нечислових даних на числові."
      ],
      "metadata": {
        "id": "YmYWlYAtdKJ9"
      }
    },
    {
      "cell_type": "code",
      "source": [
        "columns_to_convert = ['Рік']\n",
        "\n",
        "for column in columns_to_convert:\n",
        "    df[column] = pd.to_numeric(df[column], errors='coerce')"
      ],
      "metadata": {
        "id": "rb5bPeMdczw7"
      },
      "execution_count": 23,
      "outputs": []
    },
    {
      "cell_type": "markdown",
      "source": [
        "Порахуйте частку пропусків в кожній колонці (за допомогою методів isnull , sum, len)"
      ],
      "metadata": {
        "id": "g7oDlrGwdKoV"
      }
    },
    {
      "cell_type": "code",
      "source": [
        "missing_ratio = {}\n",
        "\n",
        "\n",
        "for column in df.columns:\n",
        "    total_count = len(df)\n",
        "    missing_count = df[column].isnull().sum()\n",
        "    ratio = (missing_count / total_count) * 100\n",
        "    missing_ratio[column] = ratio\n",
        "\n",
        "for column, ratio in missing_ratio.items():\n",
        "    print(f'Стовпець \"{column}\": {ratio:.2f}% пропусків')"
      ],
      "metadata": {
        "colab": {
          "base_uri": "https://localhost:8080/"
        },
        "id": "Bub_LJgndHPp",
        "outputId": "246e8790-596c-4d3d-a7f5-028538a76f76"
      },
      "execution_count": 24,
      "outputs": [
        {
          "output_type": "stream",
          "name": "stdout",
          "text": [
            "Стовпець \"Рік\": 6.25% пропусків\n"
          ]
        }
      ]
    },
    {
      "cell_type": "markdown",
      "source": [
        "Замініть всі пропущені значення на середні значення по (стовпцю).\n",
        "\n"
      ],
      "metadata": {
        "id": "s2UlyMu3dQd_"
      }
    },
    {
      "cell_type": "code",
      "source": [
        "df = df.fillna(df.mean())"
      ],
      "metadata": {
        "id": "Uu36NjCgdP5t"
      },
      "execution_count": 31,
      "outputs": []
    }
  ]
}